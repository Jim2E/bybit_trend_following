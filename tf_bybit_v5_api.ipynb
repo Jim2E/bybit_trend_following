{
 "cells": [
  {
   "cell_type": "code",
   "execution_count": 1,
   "metadata": {},
   "outputs": [],
   "source": [
    "import requests\n",
    "import json\n",
    "from datetime import timedelta\n",
    "import numpy as np\n",
    "import pandas as pd\n",
    "from datetime import datetime\n",
    "import os\n",
    "from IPython.display import clear_output\n",
    "import local_settings\n",
    "import hmac\n",
    "import hashlib\n",
    "\n",
    "api_key = local_settings.api_key\n",
    "api_secret = local_settings.api_secret\n",
    "base_url = 'https://api-testnet.bybit.com'\n",
    "recv_window = '5000' # increase if alot of traffic\n",
    "\n",
    "def queryStringUrl(q):\n",
    "    qstr = ''\n",
    "    for k,v in q.items():\n",
    "        qstr += f'{k}={v}&'\n",
    "    qstr = qstr[0:len(qstr)-1]\n",
    "    return qstr\n",
    "\n",
    "def create_header(api_key,api_secret,query):    \n",
    "    # Step 1: Create param_str with formatted query, timestamp(ms), recvWindow(communication window)\n",
    "    queryString = queryStringUrl(query)\n",
    "    now_tstamp = str(int(datetime.now().timestamp())*1000)\n",
    "    param_str = f'{now_tstamp}{api_key}{recv_window}{queryString}'\n",
    "\n",
    "    # Step 2: Hash the signature with unique api\n",
    "    sign = hmac.new(\n",
    "        bytes(api_secret,'utf-8'),\n",
    "        bytes(param_str,'utf-8'),\n",
    "        hashlib.sha256\n",
    "        ).hexdigest()\n",
    "\n",
    "    # Step 3: Create header as part of all POST/GET calls\n",
    "    header = {\n",
    "        'X-BAPI-API-KEY': api_key,\n",
    "        'X-BAPI-TIMESTAMP': now_tstamp,\n",
    "        'X-BAPI-SIGN': sign,\n",
    "        'X-BAPI-RECV-WINDOW':recv_window}   \n",
    "    return header\n",
    "\n",
    "def code_completed():\n",
    "    os.system(\"afplay \" + 'sample.wav')"
   ]
  },
  {
   "attachments": {},
   "cell_type": "markdown",
   "metadata": {},
   "source": [
    "## TRADE"
   ]
  },
  {
   "attachments": {},
   "cell_type": "markdown",
   "metadata": {},
   "source": [
    "Post order AFTER setting tradeMode isolated and leverage"
   ]
  },
  {
   "cell_type": "code",
   "execution_count": 2,
   "metadata": {},
   "outputs": [],
   "source": [
    "def create_order(perp, side, ordertype, quantity, price, tp=None, sl=None):    \n",
    "    create_order_url = '/v5/order/create'\n",
    "\n",
    "    if tp != None and sl != None:\n",
    "        query = {\"category\":\"linear\",\"symbol\":perp,\"isLeverage\":1,\"side\":side,\"orderType\":ordertype,\"qty\":quantity,\"price\":price,\"takeProfit\": tp, \"stopLoss\": sl}\n",
    "    elif tp == None and sl == None:\n",
    "        query = {\"category\":\"linear\",\"symbol\":perp,\"isLeverage\":1,\"side\":side,\"orderType\":ordertype,\"qty\":quantity,\"price\":price}\n",
    "    else:\n",
    "        print(\"Order can't be created without Stop Loss or Take Profit Level!\")\n",
    "\n",
    "    header = create_header(api_key=api_key,api_secret=api_secret,query=query)\n",
    "    msg_recv = requests.post(url = f'{base_url}{create_order_url}', headers=header, data = query)\n",
    "    msg = json.loads(msg_recv.content.decode('utf-8')) #turn byte dict string to dict\n",
    "    print(msg)"
   ]
  },
  {
   "attachments": {},
   "cell_type": "markdown",
   "metadata": {},
   "source": [
    "---\n",
    "---\n",
    "## POSITION"
   ]
  },
  {
   "attachments": {},
   "cell_type": "markdown",
   "metadata": {},
   "source": [
    "Post Leverage"
   ]
  },
  {
   "cell_type": "code",
   "execution_count": 3,
   "metadata": {},
   "outputs": [],
   "source": [
    "def post_leverage(perp,lev):\n",
    "    set_leverage_url = '/v5/position/set-leverage'\n",
    "\n",
    "    query = {\"category\":\"linear\", \"symbol\":perp, \"buyLeverage\":str(lev), \"sellLeverage\":str(lev)}\n",
    "\n",
    "    header = create_header(api_key=api_key,api_secret=api_secret,query=query)\n",
    "    msg_recv = requests.post(url = f'{base_url}{set_leverage_url}', headers=header, data = query)\n",
    "    msg = json.loads(msg_recv.content.decode('utf-8')) #turn byte dict string to dict\n",
    "    print(msg)"
   ]
  },
  {
   "attachments": {},
   "cell_type": "markdown",
   "metadata": {},
   "source": [
    "---\n",
    "Post Isloated/Cross Mode"
   ]
  },
  {
   "cell_type": "code",
   "execution_count": 4,
   "metadata": {},
   "outputs": [],
   "source": [
    "def set_isolated(perp,lev):\n",
    "    switch_cross_isolated_url = '/v5/position/switch-isolated'\n",
    "\n",
    "    query = {\"category\":\"linear\",\"symbol\":perp,\"tradeMode\":1, \"buyLeverage\":str(lev),\"sellLeverage\":str(lev)}\n",
    "    # For tradeMode, 0: cross margin. 1: isolated margin\n",
    "\n",
    "    header = create_header(api_key=api_key,api_secret=api_secret,query=query)\n",
    "    msg_recv = requests.post(url = f'{base_url}{switch_cross_isolated_url}', headers=header, data = query)\n",
    "    msg = json.loads(msg_recv.content.decode('utf-8')) #turn byte dict string to dict\n",
    "    print(msg)"
   ]
  },
  {
   "attachments": {},
   "cell_type": "markdown",
   "metadata": {},
   "source": [
    "----\n",
    "Get name of all usdt pairs "
   ]
  },
  {
   "cell_type": "code",
   "execution_count": 5,
   "metadata": {},
   "outputs": [],
   "source": [
    "def get_usdt_perp_names():\n",
    "    symbols_url = '/v2/public/symbols'\n",
    "\n",
    "    query = {\"category\": \"linear\"}\n",
    "    query_string = queryStringUrl(query)\n",
    "\n",
    "    header = create_header(api_key=api_key,api_secret=api_secret,query=query)\n",
    "    msg_recv = requests.get(url = f'{base_url}{symbols_url}?{query_string}',headers=header)\n",
    "    msg = json.loads(msg_recv.content.decode('utf-8'))\n",
    "\n",
    "    pair_names = []\n",
    "    for token_info in msg['result']:\n",
    "        pair_names.append(token_info[\"name\"])\n",
    "    pair_names = [p for p in pair_names if \"USDT\"== p[len(p)-4:len(p)]]\n",
    "    return pair_names"
   ]
  },
  {
   "attachments": {},
   "cell_type": "markdown",
   "metadata": {},
   "source": [
    "---\n",
    "Get closed pnl of 'symbol' trade"
   ]
  },
  {
   "cell_type": "code",
   "execution_count": 6,
   "metadata": {},
   "outputs": [],
   "source": [
    "def get_pnl(perp):\n",
    "    closed_pnl_url = '/v5/position/closed-pnl'\n",
    "    query = {\"category\": \"linear\",\n",
    "            \"symbol\":perp}\n",
    "    query_string = queryStringUrl(query)\n",
    "    header = create_header(api_key=api_key,api_secret=api_secret,query=query)\n",
    "    msg_recv = requests.get(url = f'{base_url}{closed_pnl_url}?{query_string}',headers=header)\n",
    "    msg = json.loads(msg_recv.content.decode('utf-8'))\n",
    "    msg"
   ]
  },
  {
   "attachments": {},
   "cell_type": "markdown",
   "metadata": {},
   "source": [
    "---\n",
    "Post TP & SL mode"
   ]
  },
  {
   "cell_type": "code",
   "execution_count": 7,
   "metadata": {},
   "outputs": [],
   "source": [
    "def set_tpsl_mode(perp):\n",
    "    set_tpsl_mode_url = '/v5/position/set-tpsl-mode'\n",
    "\n",
    "    query = {\n",
    "        \"symbol\": \"BTCUSDT\",\n",
    "        \"category\": \"linear\",\n",
    "        \"tpSlMode\": \"Full\" \n",
    "    }\n",
    "\n",
    "    header = create_header(api_key=api_key,api_secret=api_secret,query=query)\n",
    "    msg_recv = requests.post(url = f'{base_url}{set_tpsl_mode_url}', headers=header, data = query)\n",
    "    msg = json.loads(msg_recv.content.decode('utf-8')) #turn byte dict string to dict\n",
    "    print(msg)\n",
    "    # print(msg['retMsg'])"
   ]
  },
  {
   "attachments": {},
   "cell_type": "markdown",
   "metadata": {},
   "source": [
    "---\n",
    "Get current positions for 'symbol'"
   ]
  },
  {
   "cell_type": "code",
   "execution_count": 8,
   "metadata": {},
   "outputs": [],
   "source": [
    "def get_positions(perp):\n",
    "    positions_url = '/v5/position/list'\n",
    "\n",
    "    query = {\"category\": \"linear\",\n",
    "            \"symbol\":perp}\n",
    "    query_string = queryStringUrl(query)\n",
    "\n",
    "    header = create_header(api_key=api_key,api_secret=api_secret,query=query)\n",
    "    msg_recv = requests.get(url = f'{base_url}{positions_url}?{query_string}',headers=header)\n",
    "    msg = json.loads(msg_recv.content.decode('utf-8'))\n",
    "    print(msg)"
   ]
  },
  {
   "attachments": {},
   "cell_type": "markdown",
   "metadata": {},
   "source": [
    "---\n",
    "Get execution/history of 'symbol' trade"
   ]
  },
  {
   "cell_type": "code",
   "execution_count": 9,
   "metadata": {},
   "outputs": [],
   "source": [
    "def exec_hist(perp):\n",
    "    execution_url = '/v5/execution/list'\n",
    "    query = {\"category\": \"linear\",\n",
    "            \"symbol\":perp}\n",
    "    query_string = queryStringUrl(query)\n",
    "    header = create_header(api_key=api_key,api_secret=api_secret,query=query)\n",
    "    msg_recv = requests.get(url = f'{base_url}{execution_url}?{query_string}',headers=header)\n",
    "    msg = json.loads(msg_recv.content.decode('utf-8'))\n",
    "    msg"
   ]
  },
  {
   "attachments": {},
   "cell_type": "markdown",
   "metadata": {},
   "source": [
    "----\n",
    "----"
   ]
  },
  {
   "attachments": {},
   "cell_type": "markdown",
   "metadata": {},
   "source": [
    "## ACCOUNT"
   ]
  },
  {
   "attachments": {},
   "cell_type": "markdown",
   "metadata": {},
   "source": [
    "Get Wallet Balance"
   ]
  },
  {
   "cell_type": "code",
   "execution_count": 10,
   "metadata": {},
   "outputs": [],
   "source": [
    "def get_balance():\n",
    "    wall_bal_url = '/v5/account/wallet-balance'\n",
    "    query = {\"accountType\": \"CONTRACT\",\n",
    "            \"coin\":'USDT'}\n",
    "    query_string = queryStringUrl(query)\n",
    "    header = create_header(api_key=api_key,api_secret=api_secret,query=query)\n",
    "    msg_recv = requests.get(url = f'{base_url}{wall_bal_url}?{query_string}',headers=header)\n",
    "    msg = json.loads(msg_recv.content.decode('utf-8'))\n",
    "    return msg"
   ]
  },
  {
   "attachments": {},
   "cell_type": "markdown",
   "metadata": {},
   "source": [
    "---\n",
    "Get Coin Greeks\n"
   ]
  },
  {
   "cell_type": "code",
   "execution_count": 11,
   "metadata": {},
   "outputs": [],
   "source": [
    "def coin_greeks(coin):\n",
    "    coin_greeks_url = '/v5/asset/coin-greeks'\n",
    "    query = {\"baseCoin\": \"ETH\"}\n",
    "    query_string = queryStringUrl(query)\n",
    "    header = create_header(api_key=api_key,api_secret=api_secret,query=query)\n",
    "    msg_recv = requests.get(url = f'{base_url}{coin_greeks_url}?{query_string}',headers=header)\n",
    "    msg = json.loads(msg_recv.content.decode('utf-8'))\n",
    "    msg"
   ]
  },
  {
   "attachments": {},
   "cell_type": "markdown",
   "metadata": {},
   "source": [
    "---\n",
    "---\n",
    "pybit for getting data:"
   ]
  },
  {
   "cell_type": "code",
   "execution_count": 12,
   "metadata": {},
   "outputs": [],
   "source": [
    "from pybit import usdt_perpetual\n",
    "session_unauth = usdt_perpetual.HTTP(endpoint=\"https://api-testnet.bybit.com\")\n",
    "\n",
    "'''\n",
    "parameters: token: usdtperp on bybit, \n",
    "            interval: 1,5,...,D,W,M , \n",
    "            rewind_time: how many days in the past. \n",
    "returns pd.DataFrame w/ cols:['symbol','timestamp','date','close']\n",
    "'''\n",
    "def create_df(token, interval,rewind_time):\n",
    "    df = {'symbol':[],'timestamp':[],'date':[],'close':[]}\n",
    "    curr_ts = int(datetime.now().timestamp())\n",
    "    start_ts = int((datetime.now() - timedelta(days=rewind_time)).timestamp())\n",
    "\n",
    "    msg_recv = session_unauth.query_kline(symbol=token, interval = interval, limit = 200, from_time=int(start_ts))\n",
    "\n",
    "    results = msg_recv['result']\n",
    "    df = df_filler(df,results)\n",
    "    last_ts = int(list(df['timestamp'])[-1])\n",
    "\n",
    "    while curr_ts > last_ts:\n",
    "        msg_recv = session_unauth.query_kline(symbol=token,interval = interval,limit = 200, from_time=last_ts)\n",
    "        results = msg_recv['result']\n",
    "        df = df_filler(df,results)\n",
    "        last_ts = int(list(df['timestamp'])[-1])\n",
    "\n",
    "    data = pd.DataFrame(df).drop_duplicates(subset=['date'],keep='first').reset_index(drop=True)\n",
    "    return data\n",
    "\n",
    "\n",
    "# Helper function for above functions\n",
    "def df_filler(dff,res):\n",
    "    for i in range(len(res)):\n",
    "        r = res[i]\n",
    "        dff['symbol'].append(r['symbol'])\n",
    "        dff['timestamp'].append(r['open_time'])\n",
    "        dff['date'].append(datetime.strftime(datetime.fromtimestamp(r['open_time']),'%Y-%m-%d %H:%M:%S'))\n",
    "        dff['close'].append(r['close'])\n",
    "    return dff"
   ]
  }
 ],
 "metadata": {
  "kernelspec": {
   "display_name": "base",
   "language": "python",
   "name": "python3"
  },
  "language_info": {
   "codemirror_mode": {
    "name": "ipython",
    "version": 3
   },
   "file_extension": ".py",
   "mimetype": "text/x-python",
   "name": "python",
   "nbconvert_exporter": "python",
   "pygments_lexer": "ipython3",
   "version": "3.9.12"
  },
  "orig_nbformat": 4,
  "vscode": {
   "interpreter": {
    "hash": "968ce73274dc0f8d35bc09d63dbcd009c09f848bcba290c7e3eb3c0633c13d67"
   }
  }
 },
 "nbformat": 4,
 "nbformat_minor": 2
}
